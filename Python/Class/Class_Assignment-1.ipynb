{
 "cells": [
  {
   "cell_type": "code",
   "execution_count": 4,
   "id": "ef283d38-f119-45f9-ac0e-b29251a77f9c",
   "metadata": {},
   "outputs": [
    {
     "name": "stdout",
     "output_type": "stream",
     "text": [
      "Sub-fields in AI are: \n",
      "Machine Learning\n",
      "Neural Networks\n",
      "Vision\n",
      "Robotics\n",
      "Speech Processing\n",
      "Natural Language Processing\n"
     ]
    }
   ],
   "source": [
    "from MultiFunctions import GroupFunctions\n",
    "gf=GroupFunctions()\n",
    "gf.displaySubFields()\n"
   ]
  },
  {
   "cell_type": "code",
   "execution_count": 5,
   "id": "b6d49e17-e117-463f-9a3b-cc9c6f136d19",
   "metadata": {},
   "outputs": [
    {
     "name": "stdin",
     "output_type": "stream",
     "text": [
      "Enter a Number:  52452\n"
     ]
    },
    {
     "name": "stdout",
     "output_type": "stream",
     "text": [
      "52452 is Even number\n"
     ]
    }
   ],
   "source": [
    "gf.checkEvenNum()"
   ]
  },
  {
   "cell_type": "code",
   "execution_count": 6,
   "id": "ccf03c1f-a136-44b2-a3db-ec02e7696590",
   "metadata": {},
   "outputs": [
    {
     "name": "stdin",
     "output_type": "stream",
     "text": [
      "Your Gender:  Male\n",
      "Your Age:  20\n"
     ]
    },
    {
     "name": "stdout",
     "output_type": "stream",
     "text": [
      "NOT ELIGIBLE\n"
     ]
    }
   ],
   "source": [
    "gf.checkMarriageEligibility()"
   ]
  },
  {
   "cell_type": "code",
   "execution_count": 7,
   "id": "b1356632-d497-4804-ba12-d51bf2297fcc",
   "metadata": {},
   "outputs": [
    {
     "name": "stdin",
     "output_type": "stream",
     "text": [
      "Subject1=  98\n",
      "Subject2=  87\n",
      "Subject3=  95\n",
      "Subject4=  95\n",
      "Subject5=  93\n"
     ]
    },
    {
     "name": "stdout",
     "output_type": "stream",
     "text": [
      "Total : 468\n",
      "Percentage : 93.60000000000001\n"
     ]
    }
   ],
   "source": [
    "gf.findPercentage()"
   ]
  },
  {
   "cell_type": "code",
   "execution_count": 8,
   "id": "e81ea21b-1d48-4f6b-8155-5d18588a7833",
   "metadata": {},
   "outputs": [
    {
     "name": "stdin",
     "output_type": "stream",
     "text": [
      "Height :  32\n",
      "Breadth :  34\n"
     ]
    },
    {
     "name": "stdout",
     "output_type": "stream",
     "text": [
      "Area formula: (Height*Breadth)/2\n",
      "Area of Triangle:544.0\n"
     ]
    }
   ],
   "source": [
    "gf.findArea()"
   ]
  },
  {
   "cell_type": "code",
   "execution_count": 9,
   "id": "331752d9-61da-483f-8a29-c98af215361c",
   "metadata": {},
   "outputs": [
    {
     "name": "stdin",
     "output_type": "stream",
     "text": [
      "Height1 :  2\n",
      "Height2 :  4\n",
      "Breadth :  4\n"
     ]
    },
    {
     "name": "stdout",
     "output_type": "stream",
     "text": [
      "Perimeter formula: Height1+Height2+Breadth\n",
      "Perimeter of Triangle:10\n"
     ]
    }
   ],
   "source": [
    "gf.findPerimeter()"
   ]
  },
  {
   "cell_type": "code",
   "execution_count": null,
   "id": "16377b1f-2172-4901-927e-8a7ccd4d07ee",
   "metadata": {},
   "outputs": [],
   "source": []
  }
 ],
 "metadata": {
  "kernelspec": {
   "display_name": "Python 3 (ipykernel)",
   "language": "python",
   "name": "python3"
  },
  "language_info": {
   "codemirror_mode": {
    "name": "ipython",
    "version": 3
   },
   "file_extension": ".py",
   "mimetype": "text/x-python",
   "name": "python",
   "nbconvert_exporter": "python",
   "pygments_lexer": "ipython3",
   "version": "3.13.3"
  }
 },
 "nbformat": 4,
 "nbformat_minor": 5
}
