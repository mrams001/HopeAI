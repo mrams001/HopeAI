{
 "cells": [
  {
   "cell_type": "code",
   "execution_count": 2,
   "id": "fc73dfe0-0df8-4bef-9f77-dfd8e14baceb",
   "metadata": {},
   "outputs": [
    {
     "name": "stdin",
     "output_type": "stream",
     "text": [
      "value: 10\n"
     ]
    },
    {
     "name": "stdout",
     "output_type": "stream",
     "text": [
      "Corret\n"
     ]
    }
   ],
   "source": [
    "val=int(input(\"value:\")) \n",
    "if val == 10:\n",
    "    print(\"Corret\")\n",
    " "
   ]
  },
  {
   "cell_type": "code",
   "execution_count": 5,
   "id": "ee537f67-322b-4fbd-a929-aba3855fe0aa",
   "metadata": {},
   "outputs": [
    {
     "name": "stdin",
     "output_type": "stream",
     "text": [
      "Enter the password: HOPE@123\n"
     ]
    },
    {
     "name": "stdout",
     "output_type": "stream",
     "text": [
      "Your password is correct\n"
     ]
    }
   ],
   "source": [
    "pwd=input(\"Enter the password:\")\n",
    "if pwd == \"HOPE@123\":\n",
    "    print(\"Your password is correct\")\n",
    "else:\n",
    "    print(\"Your password is incorrect\")\n",
    " "
   ]
  },
  {
   "cell_type": "code",
   "execution_count": 13,
   "id": "ddb14a1d-db76-4ff0-abd5-5c6b6d8d3200",
   "metadata": {},
   "outputs": [
    {
     "name": "stdin",
     "output_type": "stream",
     "text": [
      "age: 66\n"
     ]
    },
    {
     "name": "stdout",
     "output_type": "stream",
     "text": [
      "Senior Citizen\n"
     ]
    }
   ],
   "source": [
    "age=int(input(\"age:\")) \n",
    "if age <= 18:\n",
    "    print(\"Children\")\n",
    "elif age <= 35:\n",
    "    print(\"Adult\")\n",
    "elif age <= 50:\n",
    "    print(\"Citizen\")\n",
    "else:\n",
    "    print(\"Senior Citizen\")\n"
   ]
  },
  {
   "cell_type": "code",
   "execution_count": 17,
   "id": "ec1a1af5-239c-4c56-a9c3-a829024e806a",
   "metadata": {},
   "outputs": [
    {
     "name": "stdin",
     "output_type": "stream",
     "text": [
      "Enter any number: 1\n"
     ]
    },
    {
     "name": "stdout",
     "output_type": "stream",
     "text": [
      "Number is Positive\n"
     ]
    }
   ],
   "source": [
    "num=int(input(\"Enter any number:\")) \n",
    "if num > 0:\n",
    "    print(\"Number is Positive\")\n",
    "else:\n",
    "     print(\"Number is Negative\")"
   ]
  },
  {
   "cell_type": "code",
   "execution_count": 23,
   "id": "ced73012-c015-4444-b626-08a1cbdb114e",
   "metadata": {},
   "outputs": [
    {
     "name": "stdin",
     "output_type": "stream",
     "text": [
      "Enter a number to check: 22\n"
     ]
    },
    {
     "name": "stdout",
     "output_type": "stream",
     "text": [
      "Number is not divisible by 5\n"
     ]
    }
   ],
   "source": [
    "num=int(input(\"Enter a number to check:\")) \n",
    "if num % 5 == 0:\n",
    "    print(\"Number is  divisible by 5\")\n",
    "else:\n",
    "     print(\"Number is not divisible by 5\")\n",
    " "
   ]
  },
  {
   "cell_type": "code",
   "execution_count": null,
   "id": "6efa0b66-bb44-4233-9e21-bd097d3e2e4c",
   "metadata": {},
   "outputs": [],
   "source": []
  }
 ],
 "metadata": {
  "kernelspec": {
   "display_name": "Python 3 (ipykernel)",
   "language": "python",
   "name": "python3"
  },
  "language_info": {
   "codemirror_mode": {
    "name": "ipython",
    "version": 3
   },
   "file_extension": ".py",
   "mimetype": "text/x-python",
   "name": "python",
   "nbconvert_exporter": "python",
   "pygments_lexer": "ipython3",
   "version": "3.13.3"
  }
 },
 "nbformat": 4,
 "nbformat_minor": 5
}
