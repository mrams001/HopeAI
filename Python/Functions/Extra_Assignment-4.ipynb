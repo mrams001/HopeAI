{
 "cells": [
  {
   "cell_type": "code",
   "execution_count": 26,
   "id": "9e84c5e4-9e57-4404-bea9-13e5516fe474",
   "metadata": {},
   "outputs": [
    {
     "name": "stdout",
     "output_type": "stream",
     "text": [
      "Sub-fields in AI are: \n",
      "Machine Learning\n",
      "Neural Networks\n",
      "Vision\n",
      "Robotics\n",
      "Speech Processing\n",
      "Natural Language Processing\n"
     ]
    }
   ],
   "source": [
    "class AISubFieds:\n",
    "    subFields=[\"Machine Learning\",\"Neural Networks\",\"Vision\",\"Robotics\",\"Speech Processing\" ,\"Natural Language Processing\" ]\n",
    "    def displaySubFields(self):\n",
    "        print(\"Sub-fields in AI are: \")\n",
    "        for var in self.subFields:\n",
    "            print(var)\n",
    "\n",
    "\n",
    "subfls = AISubFieds()\n",
    "subfls.displaySubFields()"
   ]
  },
  {
   "cell_type": "code",
   "execution_count": 8,
   "id": "1fa29deb-1782-400d-b2e8-3d8af6d44947",
   "metadata": {},
   "outputs": [
    {
     "name": "stdin",
     "output_type": "stream",
     "text": [
      "Enter a number: 52452\n"
     ]
    },
    {
     "name": "stdout",
     "output_type": "stream",
     "text": [
      "52452 is Even number\n"
     ]
    }
   ],
   "source": [
    "def checkEvenNum(val):\n",
    "    if val % 2 == 0:\n",
    "        print(str(val) + \" is Even number\")\n",
    "    else:\n",
    "        print(str(val) + \" is Odd number\")\n",
    "\n",
    "v1 =int(input(\"Enter a number:\"))\n",
    "checkEvenNum(v1)\n"
   ]
  },
  {
   "cell_type": "code",
   "execution_count": 20,
   "id": "726c37ed-8172-4bbf-a26a-17baabe60570",
   "metadata": {},
   "outputs": [
    {
     "name": "stdin",
     "output_type": "stream",
     "text": [
      "Your Gender: Female\n",
      "Your Age: 23\n"
     ]
    },
    {
     "name": "stdout",
     "output_type": "stream",
     "text": [
      "ELIGIBLE\n"
     ]
    }
   ],
   "source": [
    "def checkMarriageEligibility(gender,age):\n",
    "    if gender == 'Male' and age >= 21:\n",
    "        print(\"ELIGIBLE\")\n",
    "    elif (gender == 'Female') and (age >= 18):\n",
    "        print(\"ELIGIBLE\")\n",
    "    else:\n",
    "        print(\"NOT ELIGIBLE\")\n",
    "\n",
    "\n",
    "gender =input(\"Your Gender:\")\n",
    "age =int(input(\"Your Age:\"))\n",
    "\n",
    "checkMarriageEligibility(gender,age)\n"
   ]
  },
  {
   "cell_type": "code",
   "execution_count": 29,
   "id": "f39a3e22-85e8-4b12-8590-052701353e4c",
   "metadata": {},
   "outputs": [
    {
     "name": "stdout",
     "output_type": "stream",
     "text": [
      "Subject1= 98\n",
      "Subject2= 87\n",
      "Subject3= 95\n",
      "Subject4= 95\n",
      "Subject5= 93\n",
      "Total : 468\n",
      "Percentage : 93.60000000000001\n"
     ]
    }
   ],
   "source": [
    "def findPercentage(marks):\n",
    "    total =0\n",
    "    cnt =0\n",
    "    for val in marks:\n",
    "        cnt=cnt+1\n",
    "        print(\"Subject\"+ str(cnt)  +\"= \"  + str(val))\n",
    "        total=total+val\n",
    "    print(\"Total : \"+ str(total))\n",
    "    percentage = (total/500)*100\n",
    "    print(\"Percentage : \"+ str(percentage))\n",
    "  \n",
    "marks =[98,87,95,95,93]\n",
    "findPercentage(marks)\n"
   ]
  },
  {
   "cell_type": "code",
   "execution_count": 32,
   "id": "d0cb1542-d317-40f4-8881-71e39f3490fa",
   "metadata": {},
   "outputs": [
    {
     "name": "stdin",
     "output_type": "stream",
     "text": [
      "Subject1=  98\n",
      "Subject2=  87\n",
      "Subject3=  95\n",
      "Subject4=  95\n",
      "Subject5=  93\n"
     ]
    },
    {
     "name": "stdout",
     "output_type": "stream",
     "text": [
      "Total : 468\n",
      "Percentage : 93.60000000000001\n"
     ]
    }
   ],
   "source": [
    "def findPercentage():\n",
    "    total =0\n",
    "    for i in range(1,6):\n",
    "        val=int(input(\"Subject\"+ str(i)  +\"= \" ))\n",
    "        total=total+val\n",
    "    print(\"Total : \"+ str(total))\n",
    "    percentage = (total/500)*100\n",
    "    print(\"Percentage : \"+ str(percentage))\n",
    "  \n",
    "findPercentage()"
   ]
  },
  {
   "cell_type": "code",
   "execution_count": 37,
   "id": "77a4243e-3ddf-48ec-8b79-b32c155e1b0f",
   "metadata": {},
   "outputs": [
    {
     "name": "stdin",
     "output_type": "stream",
     "text": [
      "Height :  32\n",
      "Breadth :  34\n"
     ]
    },
    {
     "name": "stdout",
     "output_type": "stream",
     "text": [
      "Area formula: (Height*Breadth)/2\n",
      "Area of Triangle:544.0\n"
     ]
    },
    {
     "name": "stdin",
     "output_type": "stream",
     "text": [
      "Height1 :  2\n",
      "Height2 :  4\n",
      "Breadth :  4\n"
     ]
    },
    {
     "name": "stdout",
     "output_type": "stream",
     "text": [
      "Perimeter formula: Height1+Height2+Breadth\n",
      "Perimeter of Triangle:10\n"
     ]
    }
   ],
   "source": [
    "class Triangle:\n",
    "    def findArea(self):\n",
    "         ht=int(input(\"Height : \"))\n",
    "         bdh=int(input(\"Breadth : \")) \n",
    "         area=ht*bdh/2\n",
    "         print(\"Area formula: (Height*Breadth)/2\")\n",
    "         print(\"Area of Triangle:\" + str(area))\n",
    "\n",
    "\n",
    "    def findPerimeter(self):\n",
    "         ht1=int(input(\"Height1 : \"))\n",
    "         ht2=int(input(\"Height2 : \"))\n",
    "         bdh=int(input(\"Breadth : \")) \n",
    "         pmeter=ht1+ht2+bdh\n",
    "         print(\"Perimeter formula: Height1+Height2+Breadth\")\n",
    "         print(\"Perimeter of Triangle:\" + str(pmeter))\n",
    "\n",
    "    \n",
    "           \n",
    "tri = Triangle()\n",
    "tri.findArea()\n",
    "tri.findPerimeter()"
   ]
  },
  {
   "cell_type": "code",
   "execution_count": null,
   "id": "ecff28c8-968e-4d1b-b484-1b91c5c286b3",
   "metadata": {},
   "outputs": [],
   "source": []
  }
 ],
 "metadata": {
  "kernelspec": {
   "display_name": "Python 3 (ipykernel)",
   "language": "python",
   "name": "python3"
  },
  "language_info": {
   "codemirror_mode": {
    "name": "ipython",
    "version": 3
   },
   "file_extension": ".py",
   "mimetype": "text/x-python",
   "name": "python",
   "nbconvert_exporter": "python",
   "pygments_lexer": "ipython3",
   "version": "3.13.3"
  }
 },
 "nbformat": 4,
 "nbformat_minor": 5
}
