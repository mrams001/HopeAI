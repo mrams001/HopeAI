{
 "cells": [
  {
   "cell_type": "code",
   "execution_count": 1,
   "id": "bd7bbb8d-7d1e-42cb-a9f0-5afcb7d9abf4",
   "metadata": {},
   "outputs": [
    {
     "name": "stdout",
     "output_type": "stream",
     "text": [
      "HOPE AI\n"
     ]
    }
   ],
   "source": [
    "print(\"HOPE AI\")"
   ]
  },
  {
   "cell_type": "code",
   "execution_count": 8,
   "id": "5f7ece02-5d3c-4068-a9c5-727a5d7372f2",
   "metadata": {},
   "outputs": [
    {
     "name": "stdin",
     "output_type": "stream",
     "text": [
      "Enter your institute name? :  HOPE AI\n"
     ]
    }
   ],
   "source": [
    "insname = input(\"Enter your institute name? : \")"
   ]
  },
  {
   "cell_type": "code",
   "execution_count": 11,
   "id": "4a846f22-bd84-44ea-8254-43133e53553f",
   "metadata": {},
   "outputs": [
    {
     "name": "stdin",
     "output_type": "stream",
     "text": [
      "Enter your name:  Raj\n",
      "Enter your age:  15\n",
      "Enter your school name:  Guru School\n",
      "Enter your drgree:  BE CSE\n"
     ]
    }
   ],
   "source": [
    "name =input(\"Enter your name: \") \n",
    "age =input(\"Enter your age: \")\n",
    "ins =input(\"Enter your school name: \")\n",
    "degree =input(\"Enter your drgree: \")"
   ]
  },
  {
   "cell_type": "code",
   "execution_count": 14,
   "id": "32155649-e4d8-482b-adbe-9a4b6e4e6ff2",
   "metadata": {},
   "outputs": [
    {
     "name": "stdout",
     "output_type": "stream",
     "text": [
      "a=  43\n",
      "b=  34\n",
      "add =  77\n"
     ]
    }
   ],
   "source": [
    "a= 43 \n",
    "b= 34 \n",
    "print(\"a= \",a)\n",
    "print(\"b= \",b)\n",
    "print(\"add = \",a+b)"
   ]
  },
  {
   "cell_type": "code",
   "execution_count": 17,
   "id": "935fe286-a96f-4553-a42b-547d7d2a7fec",
   "metadata": {},
   "outputs": [
    {
     "name": "stdin",
     "output_type": "stream",
     "text": [
      "a=  43\n",
      "b=  34\n"
     ]
    },
    {
     "name": "stdout",
     "output_type": "stream",
     "text": [
      "Sub = 9\n"
     ]
    }
   ],
   "source": [
    "a = int(input(\"a= \"))\n",
    "b = int(input(\"b= \"))\n",
    "print(\"Sub =\" ,a-b) "
   ]
  },
  {
   "cell_type": "code",
   "execution_count": 18,
   "id": "5a5528b6-3f76-4f0b-89c6-ed66e8884ce4",
   "metadata": {},
   "outputs": [
    {
     "name": "stdin",
     "output_type": "stream",
     "text": [
      "a=  63\n",
      "b=  97\n"
     ]
    },
    {
     "name": "stdout",
     "output_type": "stream",
     "text": [
      "Mul = 6111\n"
     ]
    }
   ],
   "source": [
    "a = int(input(\"a= \"))\n",
    "b = int(input(\"b= \"))\n",
    "print(\"Mul =\" ,a*b) "
   ]
  },
  {
   "cell_type": "code",
   "execution_count": 19,
   "id": "c1747490-7dd0-469e-a3a5-208a66eef12e",
   "metadata": {},
   "outputs": [
    {
     "name": "stdin",
     "output_type": "stream",
     "text": [
      "a=  76\n",
      "b=  31\n"
     ]
    },
    {
     "name": "stdout",
     "output_type": "stream",
     "text": [
      "Float Div = 2.4516129032258065\n"
     ]
    }
   ],
   "source": [
    "a = int(input(\"a= \"))\n",
    "b = int(input(\"b= \"))\n",
    "print(\"Float Div =\" ,a/b) "
   ]
  },
  {
   "cell_type": "code",
   "execution_count": 22,
   "id": "e9a026ba-69bb-42f4-be59-74506543e43f",
   "metadata": {},
   "outputs": [
    {
     "name": "stdin",
     "output_type": "stream",
     "text": [
      "a=  76\n",
      "b=  31\n"
     ]
    },
    {
     "name": "stdout",
     "output_type": "stream",
     "text": [
      "Floor Div = 2\n"
     ]
    }
   ],
   "source": [
    "import math\n",
    "a = int(input(\"a= \"))\n",
    "b = int(input(\"b= \"))\n",
    "print(\"Floor Div =\" ,math.floor(a/b))"
   ]
  },
  {
   "cell_type": "code",
   "execution_count": 23,
   "id": "4503e7dc-c7a5-4c39-b736-10429eb7011b",
   "metadata": {},
   "outputs": [
    {
     "name": "stdin",
     "output_type": "stream",
     "text": [
      "a=  76\n",
      "b=  31\n"
     ]
    },
    {
     "name": "stdout",
     "output_type": "stream",
     "text": [
      "Modulo = 14\n"
     ]
    }
   ],
   "source": [
    "a = int(input(\"a= \"))\n",
    "b = int(input(\"b= \"))\n",
    "print(\"Modulo =\" ,(a % b))"
   ]
  },
  {
   "cell_type": "code",
   "execution_count": 24,
   "id": "b6bb718c-abb4-4dc7-86c5-6c96eeb386b5",
   "metadata": {},
   "outputs": [
    {
     "name": "stdin",
     "output_type": "stream",
     "text": [
      "a=  4\n",
      "b=  4\n"
     ]
    },
    {
     "name": "stdout",
     "output_type": "stream",
     "text": [
      "Power = 256\n"
     ]
    }
   ],
   "source": [
    "a = int(input(\"a= \"))\n",
    "b = int(input(\"b= \"))\n",
    "print(\"Power =\" ,pow(a ,b))"
   ]
  },
  {
   "cell_type": "code",
   "execution_count": null,
   "id": "3e913353-d20b-49e1-9f26-33b24bd4cad7",
   "metadata": {},
   "outputs": [],
   "source": []
  }
 ],
 "metadata": {
  "kernelspec": {
   "display_name": "Python 3 (ipykernel)",
   "language": "python",
   "name": "python3"
  },
  "language_info": {
   "codemirror_mode": {
    "name": "ipython",
    "version": 3
   },
   "file_extension": ".py",
   "mimetype": "text/x-python",
   "name": "python",
   "nbconvert_exporter": "python",
   "pygments_lexer": "ipython3",
   "version": "3.13.3"
  }
 },
 "nbformat": 4,
 "nbformat_minor": 5
}
