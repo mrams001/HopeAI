{
 "cells": [
  {
   "cell_type": "code",
   "execution_count": 4,
   "id": "00012618-39a7-4dfc-a3f4-ee43999136dd",
   "metadata": {},
   "outputs": [
    {
     "name": "stdout",
     "output_type": "stream",
     "text": [
      "Welcome to Assignment-1 \n"
     ]
    }
   ],
   "source": [
    "print(\"Welcome to Assignment-1\")"
   ]
  },
  {
   "cell_type": "code",
   "execution_count": 10,
   "id": "9f35ffb2-70e8-49ad-b4d3-b900363e649b",
   "metadata": {},
   "outputs": [
    {
     "name": "stdin",
     "output_type": "stream",
     "text": [
      "Num1 =  10\n",
      "Num2 =  30\n"
     ]
    },
    {
     "name": "stdout",
     "output_type": "stream",
     "text": [
      "Add =  40\n"
     ]
    }
   ],
   "source": [
    "Num1= int(input(\"Num1 = \"))\n",
    "Num2= int(input(\"Num2 = \"))\n",
    "print(\"Add = \" , Num1+Num2)"
   ]
  },
  {
   "cell_type": "code",
   "execution_count": 9,
   "id": "f7f4186d-1883-42f3-b9f6-768c685cbe57",
   "metadata": {},
   "outputs": [
    {
     "name": "stdin",
     "output_type": "stream",
     "text": [
      "Enter the BMI Index  34\n"
     ]
    },
    {
     "name": "stdout",
     "output_type": "stream",
     "text": [
      " Very Overweight\n"
     ]
    }
   ],
   "source": [
    "bmi=int(input(\"Enter the BMI Index \"))\n",
    "if bmi > 18:\n",
    "    print(\" Very Overweight\")"
   ]
  },
  {
   "cell_type": "code",
   "execution_count": null,
   "id": "fc9bfab7-6170-4278-b026-bd1751af3214",
   "metadata": {},
   "outputs": [],
   "source": []
  }
 ],
 "metadata": {
  "kernelspec": {
   "display_name": "Python 3 (ipykernel)",
   "language": "python",
   "name": "python3"
  },
  "language_info": {
   "codemirror_mode": {
    "name": "ipython",
    "version": 3
   },
   "file_extension": ".py",
   "mimetype": "text/x-python",
   "name": "python",
   "nbconvert_exporter": "python",
   "pygments_lexer": "ipython3",
   "version": "3.13.3"
  }
 },
 "nbformat": 4,
 "nbformat_minor": 5
}
